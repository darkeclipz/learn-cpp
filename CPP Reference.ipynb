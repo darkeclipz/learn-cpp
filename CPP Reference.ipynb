{
 "cells": [
  {
   "cell_type": "markdown",
   "metadata": {},
   "source": [
    "# Includes"
   ]
  },
  {
   "cell_type": "markdown",
   "metadata": {},
   "source": [
    "The following list are useful includes.\n",
    "\n",
    "```cpp\n",
    "#include <iostream>  // cout, cin, ...\n",
    "#include <string>    // string\n",
    "#include <vector>    // vector\n",
    "#include \"file.cpp\"  // Another cpp file\n",
    "```"
   ]
  },
  {
   "cell_type": "markdown",
   "metadata": {},
   "source": [
    "# Operators"
   ]
  },
  {
   "cell_type": "markdown",
   "metadata": {},
   "source": [
    "A list of the most common operators:\n",
    "\n",
    "```cpp\n",
    "f(a)    // Function call\n",
    "++lval  // Pre-increment\n",
    "--lval  // Pre-decrement\n",
    "!a      // Not\n",
    "-a      // Unary minus\n",
    "a*b     // Multiply\n",
    "a/b     // Divide\n",
    "a%b     // Modulo (remainer)\n",
    "a+b     // Add\n",
    "a-b     // Subtract\n",
    "out<<b  // Write b to out\n",
    "in>>b   // Read from in into b\n",
    "a<b     // Less than\n",
    "a<=b    // Less than or equal\n",
    "a>b     // Greater than\n",
    "a>=b    // Greater than or equal\n",
    "a==b    // Equal\n",
    "a!=b    // Not equal\n",
    "a && b  // Logical and\n",
    "a || b  // Logical or\n",
    "lval=a  // Assignment\n",
    "lval*=a // Compount assigment\n",
    "```"
   ]
  },
  {
   "cell_type": "markdown",
   "metadata": {},
   "source": [
    "# Statements"
   ]
  },
  {
   "cell_type": "markdown",
   "metadata": {},
   "source": [
    "A list of the most common statements.\n",
    "\n",
    "```cpp\n",
    "// If\n",
    "if(cond == '') {\n",
    "    ...\n",
    "}\n",
    "else if (cond == '') {\n",
    "    ...\n",
    "}\n",
    "else {\n",
    "    ...\n",
    "}\n",
    "\n",
    "// Switch\n",
    "switch(cond) {\n",
    "case 0:\n",
    "    ...\n",
    "    break;\n",
    "case 1:\n",
    "    ...\n",
    "    break;\n",
    "default:\n",
    "    ...\n",
    "    break;\n",
    "}\n",
    "\n",
    "// While\n",
    "while(i<100) {\n",
    "    ...\n",
    "}\n",
    "\n",
    "// For\n",
    "for(int i=0; i<100; ++i) {\n",
    "    ...\n",
    "}\n",
    "```"
   ]
  },
  {
   "cell_type": "markdown",
   "metadata": {},
   "source": [
    "# Functions"
   ]
  },
  {
   "cell_type": "markdown",
   "metadata": {},
   "source": [
    "Function declaration example."
   ]
  },
  {
   "cell_type": "markdown",
   "metadata": {},
   "source": [
    "```cpp\n",
    "int square(int x) {\n",
    "    return x*x;\n",
    "}\n",
    "\n",
    "void nothing() {\n",
    "\treturn;\n",
    "}\n",
    "```"
   ]
  },
  {
   "cell_type": "markdown",
   "metadata": {},
   "source": [
    "# Vector"
   ]
  },
  {
   "cell_type": "markdown",
   "metadata": {},
   "source": [
    "Useful ways to store data.\n",
    "\n",
    "```cpp\n",
    "vector<int> v(6);\n",
    "v[2]=1;\n",
    "\n",
    "vector<double> vd(100,-1.2); // Initialized to -1.2\n",
    "    \n",
    "v.push_back(item); // Add an item to the vector.\n",
    "    \n",
    "v.size() // Size of v.\n",
    "\n",
    "sort(v.begin(), v.end()); // Sort a list.\n",
    "```"
   ]
  },
  {
   "cell_type": "markdown",
   "metadata": {},
   "source": [
    "# Exceptions"
   ]
  },
  {
   "cell_type": "markdown",
   "metadata": {},
   "source": [
    "How to throw and catch exceptions. It is possible to throw an empty `class`, as an exception.\n",
    "\n",
    "```cpp\n",
    "try {\n",
    "    throw std::runtime_error(\"Hello error!\");\n",
    "    return 0;\n",
    "}\n",
    "catch(std::exception& e) {\n",
    "    std::cerr << \"error: \" << e.what() << '\\n';\n",
    "    return 1;\n",
    "}\n",
    "catch(...) {\n",
    "    std::cerr << \"Unknown exception!\\n\";\n",
    "}\n",
    "```"
   ]
  },
  {
   "cell_type": "markdown",
   "metadata": {},
   "source": [
    "# Classes"
   ]
  },
  {
   "cell_type": "code",
   "execution_count": null,
   "metadata": {},
   "outputs": [],
   "source": []
  },
  {
   "cell_type": "markdown",
   "metadata": {},
   "source": [
    "# Strings\n",
    "\n",
    "Useful string operations.\n",
    "\n",
    "```cpp\n",
    "// String to vector<char>.\n",
    "std::vector<char> chrs(str.begin(), str.end());\n",
    "```"
   ]
  },
  {
   "cell_type": "code",
   "execution_count": null,
   "metadata": {},
   "outputs": [],
   "source": []
  }
 ],
 "metadata": {
  "kernelspec": {
   "display_name": "Python 3",
   "language": "python",
   "name": "python3"
  },
  "language_info": {
   "codemirror_mode": {
    "name": "ipython",
    "version": 3
   },
   "file_extension": ".py",
   "mimetype": "text/x-python",
   "name": "python",
   "nbconvert_exporter": "python",
   "pygments_lexer": "ipython3",
   "version": "3.6.3"
  }
 },
 "nbformat": 4,
 "nbformat_minor": 2
}
